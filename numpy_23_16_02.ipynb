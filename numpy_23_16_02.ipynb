{
 "cells": [
  {
   "cell_type": "code",
   "execution_count": 2,
   "id": "cf4488c7",
   "metadata": {},
   "outputs": [
    {
     "name": "stdout",
     "output_type": "stream",
     "text": [
      "[9.16666667 6.         6.42857143]\n"
     ]
    }
   ],
   "source": [
    "import numpy as np\n",
    "distance = [55,60,45]\n",
    "speed= [6,10,7]\n",
    "dist= np.array(distance)\n",
    "spd = np.array(speed)\n",
    "time = dist/spd\n",
    "print(time)\n"
   ]
  },
  {
   "cell_type": "code",
   "execution_count": 5,
   "id": "ef1252ee",
   "metadata": {},
   "outputs": [
    {
     "name": "stdout",
     "output_type": "stream",
     "text": [
      "Data type of arry:  float64\n",
      "No. of dismensions:  1\n",
      "Size of each dimension:  (3,)\n",
      "Total size of array:  3\n"
     ]
    }
   ],
   "source": [
    "# data type\n",
    "print(\"Data type of arry: \", time.dtype)\n",
    "# no. of dismensions\n",
    "print(\"No. of dismensions: \", time.ndim)\n",
    "# size of each dimension\n",
    "print(\"Size of each dimension: \", time.shape)\n",
    "# total size of array\n",
    "print(\"Total size of array: \", time.size)"
   ]
  },
  {
   "cell_type": "code",
   "execution_count": 6,
   "id": "34da92b9",
   "metadata": {},
   "outputs": [
    {
     "name": "stdout",
     "output_type": "stream",
     "text": [
      "x1 ndim:  1\n",
      "x1 shade:  (6,)\n",
      "x1 size:  6\n",
      "x2 ndim:  2\n",
      "x2 shade:  (3, 4)\n",
      "x2 size:  12\n",
      "x3 ndim:  3\n",
      "x3 shade:  (3, 4, 5)\n",
      "x3 size:  60\n"
     ]
    }
   ],
   "source": [
    "# Creating arrays with randoms values \n",
    "np.random.seed(0) # seed for reproducibility\n",
    "x1 = np.random.randint(10,size=6) # One-dimensional array\n",
    "x2 = np.random.randint(10,size=(3,4)) # Two-dimensional array\n",
    "x3 = np.random.randint(10,size=(3,4,5)) # Three-dimensional array\n",
    "\n",
    "print(\"x1 ndim: \", x1.ndim)\n",
    "print(\"x1 shade: \", x1.shape)\n",
    "print(\"x1 size: \", x1.size)\n",
    "\n",
    "print(\"x2 ndim: \", x2.ndim)\n",
    "print(\"x2 shade: \", x2.shape)\n",
    "print(\"x2 size: \", x2.size)\n",
    "\n",
    "print(\"x3 ndim: \", x3.ndim)\n",
    "print(\"x3 shade: \", x3.shape)\n",
    "print(\"x3 size: \", x3.size)\n"
   ]
  },
  {
   "cell_type": "code",
   "execution_count": 9,
   "id": "0d781498",
   "metadata": {},
   "outputs": [
    {
     "name": "stdout",
     "output_type": "stream",
     "text": [
      "Sequentail array with steps of 5: \n",
      " [ 0  5 10 15]\n"
     ]
    }
   ],
   "source": [
    "f = np.arange(0,20,5)\n",
    "print(\"Sequentail array with steps of 5: \\n\",f)"
   ]
  },
  {
   "cell_type": "code",
   "execution_count": 13,
   "id": "3363342e",
   "metadata": {},
   "outputs": [
    {
     "name": "stdout",
     "output_type": "stream",
     "text": [
      "1-d array: \n",
      " [5 0 3 3 7 9]\n",
      "Second element of first array:  0\n",
      "Last element of first array:  9\n",
      "Fist element of first array:  5\n"
     ]
    }
   ],
   "source": [
    "print(\"1-d array: \\n\", x1)\n",
    "print(\"Second element of first array: \",x1[1])\n",
    "print(\"Last element of first array: \", x1[-1])\n",
    "print(\"Fist element of first array: \",x1[0])"
   ]
  },
  {
   "cell_type": "code",
   "execution_count": 14,
   "id": "28cbf4c6",
   "metadata": {},
   "outputs": [
    {
     "name": "stdout",
     "output_type": "stream",
     "text": [
      "2-d array: \n",
      " [[3 5 2 4]\n",
      " [7 6 8 8]\n",
      " [1 6 7 7]]\n",
      "First elements of 2-d array: \n",
      " 3\n",
      "3-d Array: \n",
      " [[[8 1 5 9 8]\n",
      "  [9 4 3 0 3]\n",
      "  [5 0 2 3 8]\n",
      "  [1 3 3 3 7]]\n",
      "\n",
      " [[0 1 9 9 0]\n",
      "  [4 7 3 2 7]\n",
      "  [2 0 0 4 5]\n",
      "  [5 6 8 4 1]]\n",
      "\n",
      " [[4 9 8 1 1]\n",
      "  [7 9 9 3 6]\n",
      "  [7 2 0 3 5]\n",
      "  [9 4 4 6 4]]]\n",
      "First element of 3-d array: \n",
      " 8\n"
     ]
    }
   ],
   "source": [
    "print(\"2-d array: \\n\", x2)\n",
    "print(\"First elements of 2-d array: \\n\", x2[0,0])\n",
    "print(\"3-d Array: \\n\", x3)\n",
    "print(\"First element of 3-d array: \\n\", x3[0,0,0])\n"
   ]
  },
  {
   "cell_type": "code",
   "execution_count": 15,
   "id": "5e4279c2",
   "metadata": {},
   "outputs": [
    {
     "name": "stdout",
     "output_type": "stream",
     "text": [
      "Our array:  [0 1 2 3 4 5 6 7 8 9]\n",
      "First five elements:  [0 1 2 3 4]\n",
      "Elements after index 5:  [5 6 7 8 9]\n",
      "Middle sub-array:  [4 5 6]\n",
      "Every other element:  [0 2 4 6 8]\n",
      "Every ofther element, starting at index 1:  [1 3 5 7 9]\n",
      "Elements in reversed order:  [9 8 7 6 5 4 3 2 1 0]\n"
     ]
    }
   ],
   "source": [
    "# Create an array\n",
    "x = np.arange(10)\n",
    "print(\"Our array: \", x)\n",
    "print(\"First five elements: \", x[:5])\n",
    "print(\"Elements after index 5: \", x[5:])\n",
    "print(\"Middle sub-array: \",x[4:7])\n",
    "print(\"Every other element: \", x[::2])\n",
    "print(\"Every ofther element, starting at index 1: \", x[1::2])\n",
    "print(\"Elements in reversed order: \", x[::-1])"
   ]
  },
  {
   "cell_type": "code",
   "execution_count": 16,
   "id": "c0a805a3",
   "metadata": {},
   "outputs": [
    {
     "name": "stdout",
     "output_type": "stream",
     "text": [
      "2-d array: \n",
      " [[3 5 2 4]\n",
      " [7 6 8 8]\n",
      " [1 6 7 7]]\n",
      "Two rows, three columns: \n",
      " [[3 5 2]\n",
      " [7 6 8]]\n"
     ]
    }
   ],
   "source": [
    "print(\"2-d array: \\n\", x2)\n",
    "print(\"Two rows, three columns: \\n\", x2[:2,:3])"
   ]
  },
  {
   "cell_type": "code",
   "execution_count": 18,
   "id": "f5222764",
   "metadata": {},
   "outputs": [
    {
     "name": "stdout",
     "output_type": "stream",
     "text": [
      "Original 2-d array: \n",
      " [[88  5  2  4]\n",
      " [ 7  6  8  8]\n",
      " [ 1  6  7  7]]\n",
      "Sub-array: \n",
      " [[88  5]\n",
      " [ 7  6]]\n",
      "Modified sub array: \n",
      " [[88  5]\n",
      " [ 7  6]]\n",
      "Original array after changes in sub-array: \n",
      " [[88  5  2  4]\n",
      " [ 7  6  8  8]\n",
      " [ 1  6  7  7]]\n",
      "Making a copy of the original array\n",
      "Copy of the orinal array: \n",
      " [[88  5]\n",
      " [ 7  6]]\n",
      "Copied array after changes: \n",
      " [[42  5]\n",
      " [ 7  6]]\n",
      "Original array: \n",
      " [[88  5  2  4]\n",
      " [ 7  6  8  8]\n",
      " [ 1  6  7  7]]\n"
     ]
    }
   ],
   "source": [
    "# Original array\n",
    "print(\"Original 2-d array: \\n\", x2)\n",
    "# Creating a 2x2 subarray from the original array\n",
    "x2_sub = x2[:2, :2]\n",
    "print(\"Sub-array: \\n\", x2_sub)\n",
    "# Modifying sub-array\n",
    "x2_sub[0,0] = 88\n",
    "print(\"Modified sub array: \\n\", x2_sub)\n",
    "# Original array after sub-array changes\n",
    "print(\"Original array after changes in sub-array: \\n\", x2)\n",
    "print(\"Making a copy of the original array\")\n",
    "x2_sub_copy = x2[:2,:2].copy()\n",
    "print(\"Copy of the orinal array: \\n\", x2_sub_copy)\n",
    "# Modifying copied array\n",
    "x2_sub_copy[0,0] = 42\n",
    "print(\"Copied array after changes: \\n\", x2_sub_copy)\n",
    "print(\"Original array: \\n\",x2)"
   ]
  },
  {
   "cell_type": "code",
   "execution_count": 21,
   "id": "2934d54e",
   "metadata": {},
   "outputs": [
    {
     "data": {
      "text/plain": [
       "array([1, 2, 3, 3, 2, 1])"
      ]
     },
     "execution_count": 21,
     "metadata": {},
     "output_type": "execute_result"
    }
   ],
   "source": [
    "# Creating two sample arrays\n",
    "x = np.array([1,2,3])\n",
    "y = np.array([3,2,1])\n",
    "# Combining both arrays using concatenate\n",
    "np.concatenate([x,y])"
   ]
  },
  {
   "cell_type": "code",
   "execution_count": 26,
   "id": "d0a76346",
   "metadata": {},
   "outputs": [
    {
     "data": {
      "text/plain": [
       "array([[1, 2, 3],\n",
       "       [9, 8, 7],\n",
       "       [6, 5, 4]])"
      ]
     },
     "execution_count": 26,
     "metadata": {},
     "output_type": "execute_result"
    }
   ],
   "source": [
    "# Creating a sample array\n",
    "x = np.array([1,2,3])\n",
    "# Creating a 2-d array\n",
    "grid = np.array([[9,8,7],\n",
    "               [6,5,4]])\n",
    "# Vertically stack the arrays\n",
    "np.vstack([x,grid])"
   ]
  },
  {
   "cell_type": "code",
   "execution_count": 28,
   "id": "ee70f494",
   "metadata": {},
   "outputs": [
    {
     "data": {
      "text/plain": [
       "array([[ 9,  8,  7, 99],\n",
       "       [ 6,  5,  4, 99]])"
      ]
     },
     "execution_count": 28,
     "metadata": {},
     "output_type": "execute_result"
    }
   ],
   "source": [
    "# Horizontally stack the arrays\n",
    "y = np.array([[99],\n",
    "            [99]])\n",
    "np.hstack([grid,y])"
   ]
  }
 ],
 "metadata": {
  "kernelspec": {
   "display_name": "Python 3 (ipykernel)",
   "language": "python",
   "name": "python3"
  },
  "language_info": {
   "codemirror_mode": {
    "name": "ipython",
    "version": 3
   },
   "file_extension": ".py",
   "mimetype": "text/x-python",
   "name": "python",
   "nbconvert_exporter": "python",
   "pygments_lexer": "ipython3",
   "version": "3.9.12"
  }
 },
 "nbformat": 4,
 "nbformat_minor": 5
}
